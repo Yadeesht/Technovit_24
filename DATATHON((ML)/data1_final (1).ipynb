{
  "nbformat": 4,
  "nbformat_minor": 0,
  "metadata": {
    "colab": {
      "provenance": [],
      "gpuType": "T4"
    },
    "kernelspec": {
      "name": "python3",
      "display_name": "Python 3"
    },
    "language_info": {
      "name": "python"
    },
    "accelerator": "GPU"
  },
  "cells": [
    {
      "cell_type": "code",
      "execution_count": 99,
      "metadata": {
        "id": "YRfRPe4aDaMp"
      },
      "outputs": [],
      "source": [
        "### Yadeesh.T\n",
        "### Mathiyazhagan.A"
      ]
    },
    {
      "cell_type": "code",
      "source": [
        "#Importing the necessary Libraries"
      ],
      "metadata": {
        "id": "5pe1NeQ1y2BL"
      },
      "execution_count": 100,
      "outputs": []
    },
    {
      "cell_type": "code",
      "source": [
        "import numpy as np\n",
        "import pandas as pd\n",
        "import matplotlib.pyplot as plt\n",
        "from sklearn.model_selection import GridSearchCV,train_test_split as tts\n",
        "from sklearn.preprocessing import StandardScaler\n",
        "from imblearn.over_sampling import SMOTE"
      ],
      "metadata": {
        "id": "ap4rkKkQFhm7"
      },
      "execution_count": 101,
      "outputs": []
    },
    {
      "cell_type": "code",
      "source": [
        "#Importing the dataset"
      ],
      "metadata": {
        "id": "pAVS6PQSy-8Z"
      },
      "execution_count": 102,
      "outputs": []
    },
    {
      "cell_type": "code",
      "source": [
        "df=pd.read_csv(r\"/content/DATATHON_EVENT_DATASET.csv\")\n",
        "df.sample(5)"
      ],
      "metadata": {
        "colab": {
          "base_uri": "https://localhost:8080/",
          "height": 226
        },
        "id": "5iNg0nmxHID3",
        "outputId": "084d427d-1237-4c4d-a443-425e13d7abdb"
      },
      "execution_count": 103,
      "outputs": [
        {
          "output_type": "execute_result",
          "data": {
            "text/plain": [
              "       Time Transaction_Type     Amount    Origin_ID  Initial_Origin_Balance  \\\n",
              "43019    20          PAYMENT    7390.50  C1633373471                    0.00   \n",
              "7135    130         CASH_OUT  115571.77  C1990530716               264492.83   \n",
              "13483    18          PAYMENT    8017.75   C852167543                    0.00   \n",
              "39417   182         CASH_OUT  223374.25   C605440947                  505.00   \n",
              "41498   407         CASH_OUT  318733.85  C1038213289                    0.00   \n",
              "\n",
              "       Final_Origin_Balance Destination_ID  Initial_Destination_Balance  \\\n",
              "43019                  0.00     M768030900                         0.00   \n",
              "7135              148921.06    C1875540277                    339802.11   \n",
              "13483                  0.00    M1062806767                         0.00   \n",
              "39417                  0.00      C24307959                      4742.77   \n",
              "41498                  0.00     C282209878                   1236357.83   \n",
              "\n",
              "       Final_Destination_Balance Fraud Expected_Fraud  \n",
              "43019                       0.00    No             No  \n",
              "7135                   455373.88    No            NaN  \n",
              "13483                       0.00    No             No  \n",
              "39417                  228117.02    No             No  \n",
              "41498                 1555091.68    No             No  "
            ],
            "text/html": [
              "\n",
              "  <div id=\"df-b9674f39-7bef-4b1e-b73f-58402808d423\" class=\"colab-df-container\">\n",
              "    <div>\n",
              "<style scoped>\n",
              "    .dataframe tbody tr th:only-of-type {\n",
              "        vertical-align: middle;\n",
              "    }\n",
              "\n",
              "    .dataframe tbody tr th {\n",
              "        vertical-align: top;\n",
              "    }\n",
              "\n",
              "    .dataframe thead th {\n",
              "        text-align: right;\n",
              "    }\n",
              "</style>\n",
              "<table border=\"1\" class=\"dataframe\">\n",
              "  <thead>\n",
              "    <tr style=\"text-align: right;\">\n",
              "      <th></th>\n",
              "      <th>Time</th>\n",
              "      <th>Transaction_Type</th>\n",
              "      <th>Amount</th>\n",
              "      <th>Origin_ID</th>\n",
              "      <th>Initial_Origin_Balance</th>\n",
              "      <th>Final_Origin_Balance</th>\n",
              "      <th>Destination_ID</th>\n",
              "      <th>Initial_Destination_Balance</th>\n",
              "      <th>Final_Destination_Balance</th>\n",
              "      <th>Fraud</th>\n",
              "      <th>Expected_Fraud</th>\n",
              "    </tr>\n",
              "  </thead>\n",
              "  <tbody>\n",
              "    <tr>\n",
              "      <th>43019</th>\n",
              "      <td>20</td>\n",
              "      <td>PAYMENT</td>\n",
              "      <td>7390.50</td>\n",
              "      <td>C1633373471</td>\n",
              "      <td>0.00</td>\n",
              "      <td>0.00</td>\n",
              "      <td>M768030900</td>\n",
              "      <td>0.00</td>\n",
              "      <td>0.00</td>\n",
              "      <td>No</td>\n",
              "      <td>No</td>\n",
              "    </tr>\n",
              "    <tr>\n",
              "      <th>7135</th>\n",
              "      <td>130</td>\n",
              "      <td>CASH_OUT</td>\n",
              "      <td>115571.77</td>\n",
              "      <td>C1990530716</td>\n",
              "      <td>264492.83</td>\n",
              "      <td>148921.06</td>\n",
              "      <td>C1875540277</td>\n",
              "      <td>339802.11</td>\n",
              "      <td>455373.88</td>\n",
              "      <td>No</td>\n",
              "      <td>NaN</td>\n",
              "    </tr>\n",
              "    <tr>\n",
              "      <th>13483</th>\n",
              "      <td>18</td>\n",
              "      <td>PAYMENT</td>\n",
              "      <td>8017.75</td>\n",
              "      <td>C852167543</td>\n",
              "      <td>0.00</td>\n",
              "      <td>0.00</td>\n",
              "      <td>M1062806767</td>\n",
              "      <td>0.00</td>\n",
              "      <td>0.00</td>\n",
              "      <td>No</td>\n",
              "      <td>No</td>\n",
              "    </tr>\n",
              "    <tr>\n",
              "      <th>39417</th>\n",
              "      <td>182</td>\n",
              "      <td>CASH_OUT</td>\n",
              "      <td>223374.25</td>\n",
              "      <td>C605440947</td>\n",
              "      <td>505.00</td>\n",
              "      <td>0.00</td>\n",
              "      <td>C24307959</td>\n",
              "      <td>4742.77</td>\n",
              "      <td>228117.02</td>\n",
              "      <td>No</td>\n",
              "      <td>No</td>\n",
              "    </tr>\n",
              "    <tr>\n",
              "      <th>41498</th>\n",
              "      <td>407</td>\n",
              "      <td>CASH_OUT</td>\n",
              "      <td>318733.85</td>\n",
              "      <td>C1038213289</td>\n",
              "      <td>0.00</td>\n",
              "      <td>0.00</td>\n",
              "      <td>C282209878</td>\n",
              "      <td>1236357.83</td>\n",
              "      <td>1555091.68</td>\n",
              "      <td>No</td>\n",
              "      <td>No</td>\n",
              "    </tr>\n",
              "  </tbody>\n",
              "</table>\n",
              "</div>\n",
              "    <div class=\"colab-df-buttons\">\n",
              "\n",
              "  <div class=\"colab-df-container\">\n",
              "    <button class=\"colab-df-convert\" onclick=\"convertToInteractive('df-b9674f39-7bef-4b1e-b73f-58402808d423')\"\n",
              "            title=\"Convert this dataframe to an interactive table.\"\n",
              "            style=\"display:none;\">\n",
              "\n",
              "  <svg xmlns=\"http://www.w3.org/2000/svg\" height=\"24px\" viewBox=\"0 -960 960 960\">\n",
              "    <path d=\"M120-120v-720h720v720H120Zm60-500h600v-160H180v160Zm220 220h160v-160H400v160Zm0 220h160v-160H400v160ZM180-400h160v-160H180v160Zm440 0h160v-160H620v160ZM180-180h160v-160H180v160Zm440 0h160v-160H620v160Z\"/>\n",
              "  </svg>\n",
              "    </button>\n",
              "\n",
              "  <style>\n",
              "    .colab-df-container {\n",
              "      display:flex;\n",
              "      gap: 12px;\n",
              "    }\n",
              "\n",
              "    .colab-df-convert {\n",
              "      background-color: #E8F0FE;\n",
              "      border: none;\n",
              "      border-radius: 50%;\n",
              "      cursor: pointer;\n",
              "      display: none;\n",
              "      fill: #1967D2;\n",
              "      height: 32px;\n",
              "      padding: 0 0 0 0;\n",
              "      width: 32px;\n",
              "    }\n",
              "\n",
              "    .colab-df-convert:hover {\n",
              "      background-color: #E2EBFA;\n",
              "      box-shadow: 0px 1px 2px rgba(60, 64, 67, 0.3), 0px 1px 3px 1px rgba(60, 64, 67, 0.15);\n",
              "      fill: #174EA6;\n",
              "    }\n",
              "\n",
              "    .colab-df-buttons div {\n",
              "      margin-bottom: 4px;\n",
              "    }\n",
              "\n",
              "    [theme=dark] .colab-df-convert {\n",
              "      background-color: #3B4455;\n",
              "      fill: #D2E3FC;\n",
              "    }\n",
              "\n",
              "    [theme=dark] .colab-df-convert:hover {\n",
              "      background-color: #434B5C;\n",
              "      box-shadow: 0px 1px 3px 1px rgba(0, 0, 0, 0.15);\n",
              "      filter: drop-shadow(0px 1px 2px rgba(0, 0, 0, 0.3));\n",
              "      fill: #FFFFFF;\n",
              "    }\n",
              "  </style>\n",
              "\n",
              "    <script>\n",
              "      const buttonEl =\n",
              "        document.querySelector('#df-b9674f39-7bef-4b1e-b73f-58402808d423 button.colab-df-convert');\n",
              "      buttonEl.style.display =\n",
              "        google.colab.kernel.accessAllowed ? 'block' : 'none';\n",
              "\n",
              "      async function convertToInteractive(key) {\n",
              "        const element = document.querySelector('#df-b9674f39-7bef-4b1e-b73f-58402808d423');\n",
              "        const dataTable =\n",
              "          await google.colab.kernel.invokeFunction('convertToInteractive',\n",
              "                                                    [key], {});\n",
              "        if (!dataTable) return;\n",
              "\n",
              "        const docLinkHtml = 'Like what you see? Visit the ' +\n",
              "          '<a target=\"_blank\" href=https://colab.research.google.com/notebooks/data_table.ipynb>data table notebook</a>'\n",
              "          + ' to learn more about interactive tables.';\n",
              "        element.innerHTML = '';\n",
              "        dataTable['output_type'] = 'display_data';\n",
              "        await google.colab.output.renderOutput(dataTable, element);\n",
              "        const docLink = document.createElement('div');\n",
              "        docLink.innerHTML = docLinkHtml;\n",
              "        element.appendChild(docLink);\n",
              "      }\n",
              "    </script>\n",
              "  </div>\n",
              "\n",
              "\n",
              "<div id=\"df-427a15bd-90b5-48ff-82a5-e64edd3e8dd2\">\n",
              "  <button class=\"colab-df-quickchart\" onclick=\"quickchart('df-427a15bd-90b5-48ff-82a5-e64edd3e8dd2')\"\n",
              "            title=\"Suggest charts\"\n",
              "            style=\"display:none;\">\n",
              "\n",
              "<svg xmlns=\"http://www.w3.org/2000/svg\" height=\"24px\"viewBox=\"0 0 24 24\"\n",
              "     width=\"24px\">\n",
              "    <g>\n",
              "        <path d=\"M19 3H5c-1.1 0-2 .9-2 2v14c0 1.1.9 2 2 2h14c1.1 0 2-.9 2-2V5c0-1.1-.9-2-2-2zM9 17H7v-7h2v7zm4 0h-2V7h2v10zm4 0h-2v-4h2v4z\"/>\n",
              "    </g>\n",
              "</svg>\n",
              "  </button>\n",
              "\n",
              "<style>\n",
              "  .colab-df-quickchart {\n",
              "      --bg-color: #E8F0FE;\n",
              "      --fill-color: #1967D2;\n",
              "      --hover-bg-color: #E2EBFA;\n",
              "      --hover-fill-color: #174EA6;\n",
              "      --disabled-fill-color: #AAA;\n",
              "      --disabled-bg-color: #DDD;\n",
              "  }\n",
              "\n",
              "  [theme=dark] .colab-df-quickchart {\n",
              "      --bg-color: #3B4455;\n",
              "      --fill-color: #D2E3FC;\n",
              "      --hover-bg-color: #434B5C;\n",
              "      --hover-fill-color: #FFFFFF;\n",
              "      --disabled-bg-color: #3B4455;\n",
              "      --disabled-fill-color: #666;\n",
              "  }\n",
              "\n",
              "  .colab-df-quickchart {\n",
              "    background-color: var(--bg-color);\n",
              "    border: none;\n",
              "    border-radius: 50%;\n",
              "    cursor: pointer;\n",
              "    display: none;\n",
              "    fill: var(--fill-color);\n",
              "    height: 32px;\n",
              "    padding: 0;\n",
              "    width: 32px;\n",
              "  }\n",
              "\n",
              "  .colab-df-quickchart:hover {\n",
              "    background-color: var(--hover-bg-color);\n",
              "    box-shadow: 0 1px 2px rgba(60, 64, 67, 0.3), 0 1px 3px 1px rgba(60, 64, 67, 0.15);\n",
              "    fill: var(--button-hover-fill-color);\n",
              "  }\n",
              "\n",
              "  .colab-df-quickchart-complete:disabled,\n",
              "  .colab-df-quickchart-complete:disabled:hover {\n",
              "    background-color: var(--disabled-bg-color);\n",
              "    fill: var(--disabled-fill-color);\n",
              "    box-shadow: none;\n",
              "  }\n",
              "\n",
              "  .colab-df-spinner {\n",
              "    border: 2px solid var(--fill-color);\n",
              "    border-color: transparent;\n",
              "    border-bottom-color: var(--fill-color);\n",
              "    animation:\n",
              "      spin 1s steps(1) infinite;\n",
              "  }\n",
              "\n",
              "  @keyframes spin {\n",
              "    0% {\n",
              "      border-color: transparent;\n",
              "      border-bottom-color: var(--fill-color);\n",
              "      border-left-color: var(--fill-color);\n",
              "    }\n",
              "    20% {\n",
              "      border-color: transparent;\n",
              "      border-left-color: var(--fill-color);\n",
              "      border-top-color: var(--fill-color);\n",
              "    }\n",
              "    30% {\n",
              "      border-color: transparent;\n",
              "      border-left-color: var(--fill-color);\n",
              "      border-top-color: var(--fill-color);\n",
              "      border-right-color: var(--fill-color);\n",
              "    }\n",
              "    40% {\n",
              "      border-color: transparent;\n",
              "      border-right-color: var(--fill-color);\n",
              "      border-top-color: var(--fill-color);\n",
              "    }\n",
              "    60% {\n",
              "      border-color: transparent;\n",
              "      border-right-color: var(--fill-color);\n",
              "    }\n",
              "    80% {\n",
              "      border-color: transparent;\n",
              "      border-right-color: var(--fill-color);\n",
              "      border-bottom-color: var(--fill-color);\n",
              "    }\n",
              "    90% {\n",
              "      border-color: transparent;\n",
              "      border-bottom-color: var(--fill-color);\n",
              "    }\n",
              "  }\n",
              "</style>\n",
              "\n",
              "  <script>\n",
              "    async function quickchart(key) {\n",
              "      const quickchartButtonEl =\n",
              "        document.querySelector('#' + key + ' button');\n",
              "      quickchartButtonEl.disabled = true;  // To prevent multiple clicks.\n",
              "      quickchartButtonEl.classList.add('colab-df-spinner');\n",
              "      try {\n",
              "        const charts = await google.colab.kernel.invokeFunction(\n",
              "            'suggestCharts', [key], {});\n",
              "      } catch (error) {\n",
              "        console.error('Error during call to suggestCharts:', error);\n",
              "      }\n",
              "      quickchartButtonEl.classList.remove('colab-df-spinner');\n",
              "      quickchartButtonEl.classList.add('colab-df-quickchart-complete');\n",
              "    }\n",
              "    (() => {\n",
              "      let quickchartButtonEl =\n",
              "        document.querySelector('#df-427a15bd-90b5-48ff-82a5-e64edd3e8dd2 button');\n",
              "      quickchartButtonEl.style.display =\n",
              "        google.colab.kernel.accessAllowed ? 'block' : 'none';\n",
              "    })();\n",
              "  </script>\n",
              "</div>\n",
              "\n",
              "    </div>\n",
              "  </div>\n"
            ],
            "application/vnd.google.colaboratory.intrinsic+json": {
              "type": "dataframe",
              "summary": "{\n  \"name\": \"df\",\n  \"rows\": 5,\n  \"fields\": [\n    {\n      \"column\": \"Time\",\n      \"properties\": {\n        \"dtype\": \"number\",\n        \"std\": 159,\n        \"min\": 18,\n        \"max\": 407,\n        \"num_unique_values\": 5,\n        \"samples\": [\n          130,\n          407,\n          18\n        ],\n        \"semantic_type\": \"\",\n        \"description\": \"\"\n      }\n    },\n    {\n      \"column\": \"Transaction_Type\",\n      \"properties\": {\n        \"dtype\": \"category\",\n        \"num_unique_values\": 2,\n        \"samples\": [\n          \"CASH_OUT\",\n          \"PAYMENT\"\n        ],\n        \"semantic_type\": \"\",\n        \"description\": \"\"\n      }\n    },\n    {\n      \"column\": \"Amount\",\n      \"properties\": {\n        \"dtype\": \"number\",\n        \"std\": 136339.22497588827,\n        \"min\": 7390.5,\n        \"max\": 318733.85,\n        \"num_unique_values\": 5,\n        \"samples\": [\n          115571.77,\n          318733.85\n        ],\n        \"semantic_type\": \"\",\n        \"description\": \"\"\n      }\n    },\n    {\n      \"column\": \"Origin_ID\",\n      \"properties\": {\n        \"dtype\": \"string\",\n        \"num_unique_values\": 5,\n        \"samples\": [\n          \"C1990530716\",\n          \"C1038213289\"\n        ],\n        \"semantic_type\": \"\",\n        \"description\": \"\"\n      }\n    },\n    {\n      \"column\": \"Initial_Origin_Balance\",\n      \"properties\": {\n        \"dtype\": \"number\",\n        \"std\": 118228.53099555447,\n        \"min\": 0.0,\n        \"max\": 264492.83,\n        \"num_unique_values\": 3,\n        \"samples\": [\n          0.0,\n          264492.83\n        ],\n        \"semantic_type\": \"\",\n        \"description\": \"\"\n      }\n    },\n    {\n      \"column\": \"Final_Origin_Balance\",\n      \"properties\": {\n        \"dtype\": \"number\",\n        \"std\": 66599.52268826496,\n        \"min\": 0.0,\n        \"max\": 148921.06,\n        \"num_unique_values\": 2,\n        \"samples\": [\n          148921.06,\n          0.0\n        ],\n        \"semantic_type\": \"\",\n        \"description\": \"\"\n      }\n    },\n    {\n      \"column\": \"Destination_ID\",\n      \"properties\": {\n        \"dtype\": \"string\",\n        \"num_unique_values\": 5,\n        \"samples\": [\n          \"C1875540277\",\n          \"C282209878\"\n        ],\n        \"semantic_type\": \"\",\n        \"description\": \"\"\n      }\n    },\n    {\n      \"column\": \"Initial_Destination_Balance\",\n      \"properties\": {\n        \"dtype\": \"number\",\n        \"std\": 534840.6248437392,\n        \"min\": 0.0,\n        \"max\": 1236357.83,\n        \"num_unique_values\": 4,\n        \"samples\": [\n          339802.11,\n          1236357.83\n        ],\n        \"semantic_type\": \"\",\n        \"description\": \"\"\n      }\n    },\n    {\n      \"column\": \"Final_Destination_Balance\",\n      \"properties\": {\n        \"dtype\": \"number\",\n        \"std\": 647198.285904186,\n        \"min\": 0.0,\n        \"max\": 1555091.68,\n        \"num_unique_values\": 4,\n        \"samples\": [\n          455373.88,\n          1555091.68\n        ],\n        \"semantic_type\": \"\",\n        \"description\": \"\"\n      }\n    },\n    {\n      \"column\": \"Fraud\",\n      \"properties\": {\n        \"dtype\": \"category\",\n        \"num_unique_values\": 1,\n        \"samples\": [\n          \"No\"\n        ],\n        \"semantic_type\": \"\",\n        \"description\": \"\"\n      }\n    },\n    {\n      \"column\": \"Expected_Fraud\",\n      \"properties\": {\n        \"dtype\": \"category\",\n        \"num_unique_values\": 1,\n        \"samples\": [\n          \"No\"\n        ],\n        \"semantic_type\": \"\",\n        \"description\": \"\"\n      }\n    }\n  ]\n}"
            }
          },
          "metadata": {},
          "execution_count": 103
        }
      ]
    },
    {
      "cell_type": "code",
      "source": [
        "# Data analysis ,data cleaning and data preprocessing"
      ],
      "metadata": {
        "id": "W10NR0ttzGiJ"
      },
      "execution_count": 104,
      "outputs": []
    },
    {
      "cell_type": "code",
      "source": [
        "df.info()"
      ],
      "metadata": {
        "colab": {
          "base_uri": "https://localhost:8080/"
        },
        "id": "jO4Nvg3KHv7j",
        "outputId": "19d47784-ae5a-42ff-c6df-86069793c72c"
      },
      "execution_count": 105,
      "outputs": [
        {
          "output_type": "stream",
          "name": "stdout",
          "text": [
            "<class 'pandas.core.frame.DataFrame'>\n",
            "RangeIndex: 58150 entries, 0 to 58149\n",
            "Data columns (total 11 columns):\n",
            " #   Column                       Non-Null Count  Dtype  \n",
            "---  ------                       --------------  -----  \n",
            " 0   Time                         58150 non-null  int64  \n",
            " 1   Transaction_Type             58150 non-null  object \n",
            " 2   Amount                       58150 non-null  float64\n",
            " 3   Origin_ID                    58150 non-null  object \n",
            " 4   Initial_Origin_Balance       58150 non-null  float64\n",
            " 5   Final_Origin_Balance         58150 non-null  float64\n",
            " 6   Destination_ID               58150 non-null  object \n",
            " 7   Initial_Destination_Balance  58150 non-null  float64\n",
            " 8   Final_Destination_Balance    58150 non-null  float64\n",
            " 9   Fraud                        58150 non-null  object \n",
            " 10  Expected_Fraud               53500 non-null  object \n",
            "dtypes: float64(5), int64(1), object(5)\n",
            "memory usage: 4.9+ MB\n"
          ]
        }
      ]
    },
    {
      "cell_type": "code",
      "source": [
        "df.describe()"
      ],
      "metadata": {
        "colab": {
          "base_uri": "https://localhost:8080/",
          "height": 300
        },
        "id": "l65Lk7-oISt5",
        "outputId": "336d570f-cf18-47b8-8a51-07ae9a945b64"
      },
      "execution_count": 106,
      "outputs": [
        {
          "output_type": "execute_result",
          "data": {
            "text/plain": [
              "               Time        Amount  Initial_Origin_Balance  \\\n",
              "count  58150.000000  5.815000e+04            5.815000e+04   \n",
              "mean     260.806569  3.613641e+05            9.203617e+05   \n",
              "std      161.090714  1.163212e+06            2.937414e+06   \n",
              "min        1.000000  0.000000e+00            0.000000e+00   \n",
              "25%      157.000000  1.625524e+04            0.000000e+00   \n",
              "50%      253.000000  9.645477e+04            2.251500e+04   \n",
              "75%      354.000000  2.558266e+05            2.213379e+05   \n",
              "max      743.000000  6.988673e+07            5.958504e+07   \n",
              "\n",
              "       Final_Origin_Balance  Initial_Destination_Balance  \\\n",
              "count          5.815000e+04                 5.815000e+04   \n",
              "mean           7.352785e+05                 1.013537e+06   \n",
              "std            2.747510e+06                 3.387899e+06   \n",
              "min            0.000000e+00                 0.000000e+00   \n",
              "25%            0.000000e+00                 0.000000e+00   \n",
              "50%            0.000000e+00                 6.510836e+04   \n",
              "75%            8.931140e+04                 8.190887e+05   \n",
              "max            4.958504e+07                 2.362305e+08   \n",
              "\n",
              "       Final_Destination_Balance  \n",
              "count               5.815000e+04  \n",
              "mean                1.225832e+06  \n",
              "std                 3.711043e+06  \n",
              "min                 0.000000e+00  \n",
              "25%                 0.000000e+00  \n",
              "50%                 1.897881e+05  \n",
              "75%                 1.107696e+06  \n",
              "max                 2.367265e+08  "
            ],
            "text/html": [
              "\n",
              "  <div id=\"df-12bde6b6-9aae-4534-bc87-1873091078f3\" class=\"colab-df-container\">\n",
              "    <div>\n",
              "<style scoped>\n",
              "    .dataframe tbody tr th:only-of-type {\n",
              "        vertical-align: middle;\n",
              "    }\n",
              "\n",
              "    .dataframe tbody tr th {\n",
              "        vertical-align: top;\n",
              "    }\n",
              "\n",
              "    .dataframe thead th {\n",
              "        text-align: right;\n",
              "    }\n",
              "</style>\n",
              "<table border=\"1\" class=\"dataframe\">\n",
              "  <thead>\n",
              "    <tr style=\"text-align: right;\">\n",
              "      <th></th>\n",
              "      <th>Time</th>\n",
              "      <th>Amount</th>\n",
              "      <th>Initial_Origin_Balance</th>\n",
              "      <th>Final_Origin_Balance</th>\n",
              "      <th>Initial_Destination_Balance</th>\n",
              "      <th>Final_Destination_Balance</th>\n",
              "    </tr>\n",
              "  </thead>\n",
              "  <tbody>\n",
              "    <tr>\n",
              "      <th>count</th>\n",
              "      <td>58150.000000</td>\n",
              "      <td>5.815000e+04</td>\n",
              "      <td>5.815000e+04</td>\n",
              "      <td>5.815000e+04</td>\n",
              "      <td>5.815000e+04</td>\n",
              "      <td>5.815000e+04</td>\n",
              "    </tr>\n",
              "    <tr>\n",
              "      <th>mean</th>\n",
              "      <td>260.806569</td>\n",
              "      <td>3.613641e+05</td>\n",
              "      <td>9.203617e+05</td>\n",
              "      <td>7.352785e+05</td>\n",
              "      <td>1.013537e+06</td>\n",
              "      <td>1.225832e+06</td>\n",
              "    </tr>\n",
              "    <tr>\n",
              "      <th>std</th>\n",
              "      <td>161.090714</td>\n",
              "      <td>1.163212e+06</td>\n",
              "      <td>2.937414e+06</td>\n",
              "      <td>2.747510e+06</td>\n",
              "      <td>3.387899e+06</td>\n",
              "      <td>3.711043e+06</td>\n",
              "    </tr>\n",
              "    <tr>\n",
              "      <th>min</th>\n",
              "      <td>1.000000</td>\n",
              "      <td>0.000000e+00</td>\n",
              "      <td>0.000000e+00</td>\n",
              "      <td>0.000000e+00</td>\n",
              "      <td>0.000000e+00</td>\n",
              "      <td>0.000000e+00</td>\n",
              "    </tr>\n",
              "    <tr>\n",
              "      <th>25%</th>\n",
              "      <td>157.000000</td>\n",
              "      <td>1.625524e+04</td>\n",
              "      <td>0.000000e+00</td>\n",
              "      <td>0.000000e+00</td>\n",
              "      <td>0.000000e+00</td>\n",
              "      <td>0.000000e+00</td>\n",
              "    </tr>\n",
              "    <tr>\n",
              "      <th>50%</th>\n",
              "      <td>253.000000</td>\n",
              "      <td>9.645477e+04</td>\n",
              "      <td>2.251500e+04</td>\n",
              "      <td>0.000000e+00</td>\n",
              "      <td>6.510836e+04</td>\n",
              "      <td>1.897881e+05</td>\n",
              "    </tr>\n",
              "    <tr>\n",
              "      <th>75%</th>\n",
              "      <td>354.000000</td>\n",
              "      <td>2.558266e+05</td>\n",
              "      <td>2.213379e+05</td>\n",
              "      <td>8.931140e+04</td>\n",
              "      <td>8.190887e+05</td>\n",
              "      <td>1.107696e+06</td>\n",
              "    </tr>\n",
              "    <tr>\n",
              "      <th>max</th>\n",
              "      <td>743.000000</td>\n",
              "      <td>6.988673e+07</td>\n",
              "      <td>5.958504e+07</td>\n",
              "      <td>4.958504e+07</td>\n",
              "      <td>2.362305e+08</td>\n",
              "      <td>2.367265e+08</td>\n",
              "    </tr>\n",
              "  </tbody>\n",
              "</table>\n",
              "</div>\n",
              "    <div class=\"colab-df-buttons\">\n",
              "\n",
              "  <div class=\"colab-df-container\">\n",
              "    <button class=\"colab-df-convert\" onclick=\"convertToInteractive('df-12bde6b6-9aae-4534-bc87-1873091078f3')\"\n",
              "            title=\"Convert this dataframe to an interactive table.\"\n",
              "            style=\"display:none;\">\n",
              "\n",
              "  <svg xmlns=\"http://www.w3.org/2000/svg\" height=\"24px\" viewBox=\"0 -960 960 960\">\n",
              "    <path d=\"M120-120v-720h720v720H120Zm60-500h600v-160H180v160Zm220 220h160v-160H400v160Zm0 220h160v-160H400v160ZM180-400h160v-160H180v160Zm440 0h160v-160H620v160ZM180-180h160v-160H180v160Zm440 0h160v-160H620v160Z\"/>\n",
              "  </svg>\n",
              "    </button>\n",
              "\n",
              "  <style>\n",
              "    .colab-df-container {\n",
              "      display:flex;\n",
              "      gap: 12px;\n",
              "    }\n",
              "\n",
              "    .colab-df-convert {\n",
              "      background-color: #E8F0FE;\n",
              "      border: none;\n",
              "      border-radius: 50%;\n",
              "      cursor: pointer;\n",
              "      display: none;\n",
              "      fill: #1967D2;\n",
              "      height: 32px;\n",
              "      padding: 0 0 0 0;\n",
              "      width: 32px;\n",
              "    }\n",
              "\n",
              "    .colab-df-convert:hover {\n",
              "      background-color: #E2EBFA;\n",
              "      box-shadow: 0px 1px 2px rgba(60, 64, 67, 0.3), 0px 1px 3px 1px rgba(60, 64, 67, 0.15);\n",
              "      fill: #174EA6;\n",
              "    }\n",
              "\n",
              "    .colab-df-buttons div {\n",
              "      margin-bottom: 4px;\n",
              "    }\n",
              "\n",
              "    [theme=dark] .colab-df-convert {\n",
              "      background-color: #3B4455;\n",
              "      fill: #D2E3FC;\n",
              "    }\n",
              "\n",
              "    [theme=dark] .colab-df-convert:hover {\n",
              "      background-color: #434B5C;\n",
              "      box-shadow: 0px 1px 3px 1px rgba(0, 0, 0, 0.15);\n",
              "      filter: drop-shadow(0px 1px 2px rgba(0, 0, 0, 0.3));\n",
              "      fill: #FFFFFF;\n",
              "    }\n",
              "  </style>\n",
              "\n",
              "    <script>\n",
              "      const buttonEl =\n",
              "        document.querySelector('#df-12bde6b6-9aae-4534-bc87-1873091078f3 button.colab-df-convert');\n",
              "      buttonEl.style.display =\n",
              "        google.colab.kernel.accessAllowed ? 'block' : 'none';\n",
              "\n",
              "      async function convertToInteractive(key) {\n",
              "        const element = document.querySelector('#df-12bde6b6-9aae-4534-bc87-1873091078f3');\n",
              "        const dataTable =\n",
              "          await google.colab.kernel.invokeFunction('convertToInteractive',\n",
              "                                                    [key], {});\n",
              "        if (!dataTable) return;\n",
              "\n",
              "        const docLinkHtml = 'Like what you see? Visit the ' +\n",
              "          '<a target=\"_blank\" href=https://colab.research.google.com/notebooks/data_table.ipynb>data table notebook</a>'\n",
              "          + ' to learn more about interactive tables.';\n",
              "        element.innerHTML = '';\n",
              "        dataTable['output_type'] = 'display_data';\n",
              "        await google.colab.output.renderOutput(dataTable, element);\n",
              "        const docLink = document.createElement('div');\n",
              "        docLink.innerHTML = docLinkHtml;\n",
              "        element.appendChild(docLink);\n",
              "      }\n",
              "    </script>\n",
              "  </div>\n",
              "\n",
              "\n",
              "<div id=\"df-07906e46-73fa-425f-892e-19304867f5ae\">\n",
              "  <button class=\"colab-df-quickchart\" onclick=\"quickchart('df-07906e46-73fa-425f-892e-19304867f5ae')\"\n",
              "            title=\"Suggest charts\"\n",
              "            style=\"display:none;\">\n",
              "\n",
              "<svg xmlns=\"http://www.w3.org/2000/svg\" height=\"24px\"viewBox=\"0 0 24 24\"\n",
              "     width=\"24px\">\n",
              "    <g>\n",
              "        <path d=\"M19 3H5c-1.1 0-2 .9-2 2v14c0 1.1.9 2 2 2h14c1.1 0 2-.9 2-2V5c0-1.1-.9-2-2-2zM9 17H7v-7h2v7zm4 0h-2V7h2v10zm4 0h-2v-4h2v4z\"/>\n",
              "    </g>\n",
              "</svg>\n",
              "  </button>\n",
              "\n",
              "<style>\n",
              "  .colab-df-quickchart {\n",
              "      --bg-color: #E8F0FE;\n",
              "      --fill-color: #1967D2;\n",
              "      --hover-bg-color: #E2EBFA;\n",
              "      --hover-fill-color: #174EA6;\n",
              "      --disabled-fill-color: #AAA;\n",
              "      --disabled-bg-color: #DDD;\n",
              "  }\n",
              "\n",
              "  [theme=dark] .colab-df-quickchart {\n",
              "      --bg-color: #3B4455;\n",
              "      --fill-color: #D2E3FC;\n",
              "      --hover-bg-color: #434B5C;\n",
              "      --hover-fill-color: #FFFFFF;\n",
              "      --disabled-bg-color: #3B4455;\n",
              "      --disabled-fill-color: #666;\n",
              "  }\n",
              "\n",
              "  .colab-df-quickchart {\n",
              "    background-color: var(--bg-color);\n",
              "    border: none;\n",
              "    border-radius: 50%;\n",
              "    cursor: pointer;\n",
              "    display: none;\n",
              "    fill: var(--fill-color);\n",
              "    height: 32px;\n",
              "    padding: 0;\n",
              "    width: 32px;\n",
              "  }\n",
              "\n",
              "  .colab-df-quickchart:hover {\n",
              "    background-color: var(--hover-bg-color);\n",
              "    box-shadow: 0 1px 2px rgba(60, 64, 67, 0.3), 0 1px 3px 1px rgba(60, 64, 67, 0.15);\n",
              "    fill: var(--button-hover-fill-color);\n",
              "  }\n",
              "\n",
              "  .colab-df-quickchart-complete:disabled,\n",
              "  .colab-df-quickchart-complete:disabled:hover {\n",
              "    background-color: var(--disabled-bg-color);\n",
              "    fill: var(--disabled-fill-color);\n",
              "    box-shadow: none;\n",
              "  }\n",
              "\n",
              "  .colab-df-spinner {\n",
              "    border: 2px solid var(--fill-color);\n",
              "    border-color: transparent;\n",
              "    border-bottom-color: var(--fill-color);\n",
              "    animation:\n",
              "      spin 1s steps(1) infinite;\n",
              "  }\n",
              "\n",
              "  @keyframes spin {\n",
              "    0% {\n",
              "      border-color: transparent;\n",
              "      border-bottom-color: var(--fill-color);\n",
              "      border-left-color: var(--fill-color);\n",
              "    }\n",
              "    20% {\n",
              "      border-color: transparent;\n",
              "      border-left-color: var(--fill-color);\n",
              "      border-top-color: var(--fill-color);\n",
              "    }\n",
              "    30% {\n",
              "      border-color: transparent;\n",
              "      border-left-color: var(--fill-color);\n",
              "      border-top-color: var(--fill-color);\n",
              "      border-right-color: var(--fill-color);\n",
              "    }\n",
              "    40% {\n",
              "      border-color: transparent;\n",
              "      border-right-color: var(--fill-color);\n",
              "      border-top-color: var(--fill-color);\n",
              "    }\n",
              "    60% {\n",
              "      border-color: transparent;\n",
              "      border-right-color: var(--fill-color);\n",
              "    }\n",
              "    80% {\n",
              "      border-color: transparent;\n",
              "      border-right-color: var(--fill-color);\n",
              "      border-bottom-color: var(--fill-color);\n",
              "    }\n",
              "    90% {\n",
              "      border-color: transparent;\n",
              "      border-bottom-color: var(--fill-color);\n",
              "    }\n",
              "  }\n",
              "</style>\n",
              "\n",
              "  <script>\n",
              "    async function quickchart(key) {\n",
              "      const quickchartButtonEl =\n",
              "        document.querySelector('#' + key + ' button');\n",
              "      quickchartButtonEl.disabled = true;  // To prevent multiple clicks.\n",
              "      quickchartButtonEl.classList.add('colab-df-spinner');\n",
              "      try {\n",
              "        const charts = await google.colab.kernel.invokeFunction(\n",
              "            'suggestCharts', [key], {});\n",
              "      } catch (error) {\n",
              "        console.error('Error during call to suggestCharts:', error);\n",
              "      }\n",
              "      quickchartButtonEl.classList.remove('colab-df-spinner');\n",
              "      quickchartButtonEl.classList.add('colab-df-quickchart-complete');\n",
              "    }\n",
              "    (() => {\n",
              "      let quickchartButtonEl =\n",
              "        document.querySelector('#df-07906e46-73fa-425f-892e-19304867f5ae button');\n",
              "      quickchartButtonEl.style.display =\n",
              "        google.colab.kernel.accessAllowed ? 'block' : 'none';\n",
              "    })();\n",
              "  </script>\n",
              "</div>\n",
              "\n",
              "    </div>\n",
              "  </div>\n"
            ],
            "application/vnd.google.colaboratory.intrinsic+json": {
              "type": "dataframe",
              "summary": "{\n  \"name\": \"df\",\n  \"rows\": 8,\n  \"fields\": [\n    {\n      \"column\": \"Time\",\n      \"properties\": {\n        \"dtype\": \"number\",\n        \"std\": 20462.799826176863,\n        \"min\": 1.0,\n        \"max\": 58150.0,\n        \"num_unique_values\": 8,\n        \"samples\": [\n          260.80656921754087,\n          253.0,\n          58150.0\n        ],\n        \"semantic_type\": \"\",\n        \"description\": \"\"\n      }\n    },\n    {\n      \"column\": \"Amount\",\n      \"properties\": {\n        \"dtype\": \"number\",\n        \"std\": 24613092.010285612,\n        \"min\": 0.0,\n        \"max\": 69886731.3,\n        \"num_unique_values\": 8,\n        \"samples\": [\n          361364.1118715391,\n          96454.76999999999,\n          58150.0\n        ],\n        \"semantic_type\": \"\",\n        \"description\": \"\"\n      }\n    },\n    {\n      \"column\": \"Initial_Origin_Balance\",\n      \"properties\": {\n        \"dtype\": \"number\",\n        \"std\": 20880545.075057264,\n        \"min\": 0.0,\n        \"max\": 59585040.37,\n        \"num_unique_values\": 7,\n        \"samples\": [\n          58150.0,\n          920361.7199919175,\n          221337.8775\n        ],\n        \"semantic_type\": \"\",\n        \"description\": \"\"\n      }\n    },\n    {\n      \"column\": \"Final_Origin_Balance\",\n      \"properties\": {\n        \"dtype\": \"number\",\n        \"std\": 17373188.04095633,\n        \"min\": 0.0,\n        \"max\": 49585040.37,\n        \"num_unique_values\": 6,\n        \"samples\": [\n          58150.0,\n          735278.495449871,\n          49585040.37\n        ],\n        \"semantic_type\": \"\",\n        \"description\": \"\"\n      }\n    },\n    {\n      \"column\": \"Initial_Destination_Balance\",\n      \"properties\": {\n        \"dtype\": \"number\",\n        \"std\": 83258009.41920556,\n        \"min\": 0.0,\n        \"max\": 236230516.8,\n        \"num_unique_values\": 7,\n        \"samples\": [\n          58150.0,\n          1013536.835155288,\n          819088.6575\n        ],\n        \"semantic_type\": \"\",\n        \"description\": \"\"\n      }\n    },\n    {\n      \"column\": \"Final_Destination_Balance\",\n      \"properties\": {\n        \"dtype\": \"number\",\n        \"std\": 83386959.1185191,\n        \"min\": 0.0,\n        \"max\": 236726494.7,\n        \"num_unique_values\": 7,\n        \"samples\": [\n          58150.0,\n          1225831.850961651,\n          1107696.4875\n        ],\n        \"semantic_type\": \"\",\n        \"description\": \"\"\n      }\n    }\n  ]\n}"
            }
          },
          "metadata": {},
          "execution_count": 106
        }
      ]
    },
    {
      "cell_type": "code",
      "source": [
        "df=df.drop([\"Time\",\"Origin_ID\"],axis=\"columns\")"
      ],
      "metadata": {
        "id": "WttOqDKoItY3"
      },
      "execution_count": 107,
      "outputs": []
    },
    {
      "cell_type": "code",
      "source": [
        "df=df.drop([\"Destination_ID\"],axis=\"columns\")"
      ],
      "metadata": {
        "id": "lHWVziuLOL60"
      },
      "execution_count": 108,
      "outputs": []
    },
    {
      "cell_type": "code",
      "source": [
        "df.head(5)"
      ],
      "metadata": {
        "colab": {
          "base_uri": "https://localhost:8080/",
          "height": 206
        },
        "id": "IkdfJ0vnKVrS",
        "outputId": "98995d19-3074-4a4e-8cdc-48b7a2c5da4c"
      },
      "execution_count": 109,
      "outputs": [
        {
          "output_type": "execute_result",
          "data": {
            "text/plain": [
              "  Transaction_Type     Amount  Initial_Origin_Balance  Final_Origin_Balance  \\\n",
              "0         CASH_OUT  183806.32                19391.00                  0.00   \n",
              "1          PAYMENT     521.37                    0.00                  0.00   \n",
              "2          PAYMENT    3478.18                19853.00              16374.82   \n",
              "3          PAYMENT    1716.05                 5769.17               4053.13   \n",
              "4          CASH_IN  253129.93              1328499.49            1581629.42   \n",
              "\n",
              "   Initial_Destination_Balance  Final_Destination_Balance Fraud Expected_Fraud  \n",
              "0                    382572.19                  566378.51    No             No  \n",
              "1                         0.00                       0.00    No             No  \n",
              "2                         0.00                       0.00    No             No  \n",
              "3                         0.00                       0.00    No             No  \n",
              "4                   2713220.48                 2460090.55    No             No  "
            ],
            "text/html": [
              "\n",
              "  <div id=\"df-ca9506f7-30e3-4874-891f-7c826367ab4d\" class=\"colab-df-container\">\n",
              "    <div>\n",
              "<style scoped>\n",
              "    .dataframe tbody tr th:only-of-type {\n",
              "        vertical-align: middle;\n",
              "    }\n",
              "\n",
              "    .dataframe tbody tr th {\n",
              "        vertical-align: top;\n",
              "    }\n",
              "\n",
              "    .dataframe thead th {\n",
              "        text-align: right;\n",
              "    }\n",
              "</style>\n",
              "<table border=\"1\" class=\"dataframe\">\n",
              "  <thead>\n",
              "    <tr style=\"text-align: right;\">\n",
              "      <th></th>\n",
              "      <th>Transaction_Type</th>\n",
              "      <th>Amount</th>\n",
              "      <th>Initial_Origin_Balance</th>\n",
              "      <th>Final_Origin_Balance</th>\n",
              "      <th>Initial_Destination_Balance</th>\n",
              "      <th>Final_Destination_Balance</th>\n",
              "      <th>Fraud</th>\n",
              "      <th>Expected_Fraud</th>\n",
              "    </tr>\n",
              "  </thead>\n",
              "  <tbody>\n",
              "    <tr>\n",
              "      <th>0</th>\n",
              "      <td>CASH_OUT</td>\n",
              "      <td>183806.32</td>\n",
              "      <td>19391.00</td>\n",
              "      <td>0.00</td>\n",
              "      <td>382572.19</td>\n",
              "      <td>566378.51</td>\n",
              "      <td>No</td>\n",
              "      <td>No</td>\n",
              "    </tr>\n",
              "    <tr>\n",
              "      <th>1</th>\n",
              "      <td>PAYMENT</td>\n",
              "      <td>521.37</td>\n",
              "      <td>0.00</td>\n",
              "      <td>0.00</td>\n",
              "      <td>0.00</td>\n",
              "      <td>0.00</td>\n",
              "      <td>No</td>\n",
              "      <td>No</td>\n",
              "    </tr>\n",
              "    <tr>\n",
              "      <th>2</th>\n",
              "      <td>PAYMENT</td>\n",
              "      <td>3478.18</td>\n",
              "      <td>19853.00</td>\n",
              "      <td>16374.82</td>\n",
              "      <td>0.00</td>\n",
              "      <td>0.00</td>\n",
              "      <td>No</td>\n",
              "      <td>No</td>\n",
              "    </tr>\n",
              "    <tr>\n",
              "      <th>3</th>\n",
              "      <td>PAYMENT</td>\n",
              "      <td>1716.05</td>\n",
              "      <td>5769.17</td>\n",
              "      <td>4053.13</td>\n",
              "      <td>0.00</td>\n",
              "      <td>0.00</td>\n",
              "      <td>No</td>\n",
              "      <td>No</td>\n",
              "    </tr>\n",
              "    <tr>\n",
              "      <th>4</th>\n",
              "      <td>CASH_IN</td>\n",
              "      <td>253129.93</td>\n",
              "      <td>1328499.49</td>\n",
              "      <td>1581629.42</td>\n",
              "      <td>2713220.48</td>\n",
              "      <td>2460090.55</td>\n",
              "      <td>No</td>\n",
              "      <td>No</td>\n",
              "    </tr>\n",
              "  </tbody>\n",
              "</table>\n",
              "</div>\n",
              "    <div class=\"colab-df-buttons\">\n",
              "\n",
              "  <div class=\"colab-df-container\">\n",
              "    <button class=\"colab-df-convert\" onclick=\"convertToInteractive('df-ca9506f7-30e3-4874-891f-7c826367ab4d')\"\n",
              "            title=\"Convert this dataframe to an interactive table.\"\n",
              "            style=\"display:none;\">\n",
              "\n",
              "  <svg xmlns=\"http://www.w3.org/2000/svg\" height=\"24px\" viewBox=\"0 -960 960 960\">\n",
              "    <path d=\"M120-120v-720h720v720H120Zm60-500h600v-160H180v160Zm220 220h160v-160H400v160Zm0 220h160v-160H400v160ZM180-400h160v-160H180v160Zm440 0h160v-160H620v160ZM180-180h160v-160H180v160Zm440 0h160v-160H620v160Z\"/>\n",
              "  </svg>\n",
              "    </button>\n",
              "\n",
              "  <style>\n",
              "    .colab-df-container {\n",
              "      display:flex;\n",
              "      gap: 12px;\n",
              "    }\n",
              "\n",
              "    .colab-df-convert {\n",
              "      background-color: #E8F0FE;\n",
              "      border: none;\n",
              "      border-radius: 50%;\n",
              "      cursor: pointer;\n",
              "      display: none;\n",
              "      fill: #1967D2;\n",
              "      height: 32px;\n",
              "      padding: 0 0 0 0;\n",
              "      width: 32px;\n",
              "    }\n",
              "\n",
              "    .colab-df-convert:hover {\n",
              "      background-color: #E2EBFA;\n",
              "      box-shadow: 0px 1px 2px rgba(60, 64, 67, 0.3), 0px 1px 3px 1px rgba(60, 64, 67, 0.15);\n",
              "      fill: #174EA6;\n",
              "    }\n",
              "\n",
              "    .colab-df-buttons div {\n",
              "      margin-bottom: 4px;\n",
              "    }\n",
              "\n",
              "    [theme=dark] .colab-df-convert {\n",
              "      background-color: #3B4455;\n",
              "      fill: #D2E3FC;\n",
              "    }\n",
              "\n",
              "    [theme=dark] .colab-df-convert:hover {\n",
              "      background-color: #434B5C;\n",
              "      box-shadow: 0px 1px 3px 1px rgba(0, 0, 0, 0.15);\n",
              "      filter: drop-shadow(0px 1px 2px rgba(0, 0, 0, 0.3));\n",
              "      fill: #FFFFFF;\n",
              "    }\n",
              "  </style>\n",
              "\n",
              "    <script>\n",
              "      const buttonEl =\n",
              "        document.querySelector('#df-ca9506f7-30e3-4874-891f-7c826367ab4d button.colab-df-convert');\n",
              "      buttonEl.style.display =\n",
              "        google.colab.kernel.accessAllowed ? 'block' : 'none';\n",
              "\n",
              "      async function convertToInteractive(key) {\n",
              "        const element = document.querySelector('#df-ca9506f7-30e3-4874-891f-7c826367ab4d');\n",
              "        const dataTable =\n",
              "          await google.colab.kernel.invokeFunction('convertToInteractive',\n",
              "                                                    [key], {});\n",
              "        if (!dataTable) return;\n",
              "\n",
              "        const docLinkHtml = 'Like what you see? Visit the ' +\n",
              "          '<a target=\"_blank\" href=https://colab.research.google.com/notebooks/data_table.ipynb>data table notebook</a>'\n",
              "          + ' to learn more about interactive tables.';\n",
              "        element.innerHTML = '';\n",
              "        dataTable['output_type'] = 'display_data';\n",
              "        await google.colab.output.renderOutput(dataTable, element);\n",
              "        const docLink = document.createElement('div');\n",
              "        docLink.innerHTML = docLinkHtml;\n",
              "        element.appendChild(docLink);\n",
              "      }\n",
              "    </script>\n",
              "  </div>\n",
              "\n",
              "\n",
              "<div id=\"df-cd893b48-7bb6-4f9e-9213-ecf83279c329\">\n",
              "  <button class=\"colab-df-quickchart\" onclick=\"quickchart('df-cd893b48-7bb6-4f9e-9213-ecf83279c329')\"\n",
              "            title=\"Suggest charts\"\n",
              "            style=\"display:none;\">\n",
              "\n",
              "<svg xmlns=\"http://www.w3.org/2000/svg\" height=\"24px\"viewBox=\"0 0 24 24\"\n",
              "     width=\"24px\">\n",
              "    <g>\n",
              "        <path d=\"M19 3H5c-1.1 0-2 .9-2 2v14c0 1.1.9 2 2 2h14c1.1 0 2-.9 2-2V5c0-1.1-.9-2-2-2zM9 17H7v-7h2v7zm4 0h-2V7h2v10zm4 0h-2v-4h2v4z\"/>\n",
              "    </g>\n",
              "</svg>\n",
              "  </button>\n",
              "\n",
              "<style>\n",
              "  .colab-df-quickchart {\n",
              "      --bg-color: #E8F0FE;\n",
              "      --fill-color: #1967D2;\n",
              "      --hover-bg-color: #E2EBFA;\n",
              "      --hover-fill-color: #174EA6;\n",
              "      --disabled-fill-color: #AAA;\n",
              "      --disabled-bg-color: #DDD;\n",
              "  }\n",
              "\n",
              "  [theme=dark] .colab-df-quickchart {\n",
              "      --bg-color: #3B4455;\n",
              "      --fill-color: #D2E3FC;\n",
              "      --hover-bg-color: #434B5C;\n",
              "      --hover-fill-color: #FFFFFF;\n",
              "      --disabled-bg-color: #3B4455;\n",
              "      --disabled-fill-color: #666;\n",
              "  }\n",
              "\n",
              "  .colab-df-quickchart {\n",
              "    background-color: var(--bg-color);\n",
              "    border: none;\n",
              "    border-radius: 50%;\n",
              "    cursor: pointer;\n",
              "    display: none;\n",
              "    fill: var(--fill-color);\n",
              "    height: 32px;\n",
              "    padding: 0;\n",
              "    width: 32px;\n",
              "  }\n",
              "\n",
              "  .colab-df-quickchart:hover {\n",
              "    background-color: var(--hover-bg-color);\n",
              "    box-shadow: 0 1px 2px rgba(60, 64, 67, 0.3), 0 1px 3px 1px rgba(60, 64, 67, 0.15);\n",
              "    fill: var(--button-hover-fill-color);\n",
              "  }\n",
              "\n",
              "  .colab-df-quickchart-complete:disabled,\n",
              "  .colab-df-quickchart-complete:disabled:hover {\n",
              "    background-color: var(--disabled-bg-color);\n",
              "    fill: var(--disabled-fill-color);\n",
              "    box-shadow: none;\n",
              "  }\n",
              "\n",
              "  .colab-df-spinner {\n",
              "    border: 2px solid var(--fill-color);\n",
              "    border-color: transparent;\n",
              "    border-bottom-color: var(--fill-color);\n",
              "    animation:\n",
              "      spin 1s steps(1) infinite;\n",
              "  }\n",
              "\n",
              "  @keyframes spin {\n",
              "    0% {\n",
              "      border-color: transparent;\n",
              "      border-bottom-color: var(--fill-color);\n",
              "      border-left-color: var(--fill-color);\n",
              "    }\n",
              "    20% {\n",
              "      border-color: transparent;\n",
              "      border-left-color: var(--fill-color);\n",
              "      border-top-color: var(--fill-color);\n",
              "    }\n",
              "    30% {\n",
              "      border-color: transparent;\n",
              "      border-left-color: var(--fill-color);\n",
              "      border-top-color: var(--fill-color);\n",
              "      border-right-color: var(--fill-color);\n",
              "    }\n",
              "    40% {\n",
              "      border-color: transparent;\n",
              "      border-right-color: var(--fill-color);\n",
              "      border-top-color: var(--fill-color);\n",
              "    }\n",
              "    60% {\n",
              "      border-color: transparent;\n",
              "      border-right-color: var(--fill-color);\n",
              "    }\n",
              "    80% {\n",
              "      border-color: transparent;\n",
              "      border-right-color: var(--fill-color);\n",
              "      border-bottom-color: var(--fill-color);\n",
              "    }\n",
              "    90% {\n",
              "      border-color: transparent;\n",
              "      border-bottom-color: var(--fill-color);\n",
              "    }\n",
              "  }\n",
              "</style>\n",
              "\n",
              "  <script>\n",
              "    async function quickchart(key) {\n",
              "      const quickchartButtonEl =\n",
              "        document.querySelector('#' + key + ' button');\n",
              "      quickchartButtonEl.disabled = true;  // To prevent multiple clicks.\n",
              "      quickchartButtonEl.classList.add('colab-df-spinner');\n",
              "      try {\n",
              "        const charts = await google.colab.kernel.invokeFunction(\n",
              "            'suggestCharts', [key], {});\n",
              "      } catch (error) {\n",
              "        console.error('Error during call to suggestCharts:', error);\n",
              "      }\n",
              "      quickchartButtonEl.classList.remove('colab-df-spinner');\n",
              "      quickchartButtonEl.classList.add('colab-df-quickchart-complete');\n",
              "    }\n",
              "    (() => {\n",
              "      let quickchartButtonEl =\n",
              "        document.querySelector('#df-cd893b48-7bb6-4f9e-9213-ecf83279c329 button');\n",
              "      quickchartButtonEl.style.display =\n",
              "        google.colab.kernel.accessAllowed ? 'block' : 'none';\n",
              "    })();\n",
              "  </script>\n",
              "</div>\n",
              "\n",
              "    </div>\n",
              "  </div>\n"
            ],
            "application/vnd.google.colaboratory.intrinsic+json": {
              "type": "dataframe",
              "variable_name": "df",
              "summary": "{\n  \"name\": \"df\",\n  \"rows\": 58150,\n  \"fields\": [\n    {\n      \"column\": \"Transaction_Type\",\n      \"properties\": {\n        \"dtype\": \"category\",\n        \"num_unique_values\": 7,\n        \"samples\": [\n          \"CASH_OUT\",\n          \"PAYMENT\",\n          \"CASH_OUUUT\"\n        ],\n        \"semantic_type\": \"\",\n        \"description\": \"\"\n      }\n    },\n    {\n      \"column\": \"Amount\",\n      \"properties\": {\n        \"dtype\": \"number\",\n        \"std\": 1163211.5682423278,\n        \"min\": 0.0,\n        \"max\": 69886731.3,\n        \"num_unique_values\": 53855,\n        \"samples\": [\n          201606.51,\n          413187.67,\n          22213.82\n        ],\n        \"semantic_type\": \"\",\n        \"description\": \"\"\n      }\n    },\n    {\n      \"column\": \"Initial_Origin_Balance\",\n      \"properties\": {\n        \"dtype\": \"number\",\n        \"std\": 2937413.9832046526,\n        \"min\": 0.0,\n        \"max\": 59585040.37,\n        \"num_unique_values\": 33158,\n        \"samples\": [\n          11526.0,\n          4105655.72,\n          29934.0\n        ],\n        \"semantic_type\": \"\",\n        \"description\": \"\"\n      }\n    },\n    {\n      \"column\": \"Final_Origin_Balance\",\n      \"properties\": {\n        \"dtype\": \"number\",\n        \"std\": 2747510.4324415186,\n        \"min\": 0.0,\n        \"max\": 49585040.37,\n        \"num_unique_values\": 21683,\n        \"samples\": [\n          19700.82,\n          42134.9,\n          33325.81\n        ],\n        \"semantic_type\": \"\",\n        \"description\": \"\"\n      }\n    },\n    {\n      \"column\": \"Initial_Destination_Balance\",\n      \"properties\": {\n        \"dtype\": \"number\",\n        \"std\": 3387899.0348868323,\n        \"min\": 0.0,\n        \"max\": 236230516.8,\n        \"num_unique_values\": 31481,\n        \"samples\": [\n          1328472.86,\n          19677.72,\n          18856906.15\n        ],\n        \"semantic_type\": \"\",\n        \"description\": \"\"\n      }\n    },\n    {\n      \"column\": \"Final_Destination_Balance\",\n      \"properties\": {\n        \"dtype\": \"number\",\n        \"std\": 3711042.733526834,\n        \"min\": 0.0,\n        \"max\": 236726494.7,\n        \"num_unique_values\": 34679,\n        \"samples\": [\n          3033375.75,\n          1498266.96,\n          1167207.33\n        ],\n        \"semantic_type\": \"\",\n        \"description\": \"\"\n      }\n    },\n    {\n      \"column\": \"Fraud\",\n      \"properties\": {\n        \"dtype\": \"category\",\n        \"num_unique_values\": 2,\n        \"samples\": [\n          \"Yes\",\n          \"No\"\n        ],\n        \"semantic_type\": \"\",\n        \"description\": \"\"\n      }\n    },\n    {\n      \"column\": \"Expected_Fraud\",\n      \"properties\": {\n        \"dtype\": \"category\",\n        \"num_unique_values\": 2,\n        \"samples\": [\n          \"Yes\",\n          \"No\"\n        ],\n        \"semantic_type\": \"\",\n        \"description\": \"\"\n      }\n    }\n  ]\n}"
            }
          },
          "metadata": {},
          "execution_count": 109
        }
      ]
    },
    {
      "cell_type": "code",
      "source": [
        "def classify_fraud(row):   # this function does the work which fills the null values in them\n",
        "    if pd.isna(row['Expected_Fraud']):\n",
        "        if (row[\"Amount\"]):\n",
        "            return 'Yes'\n",
        "        else:\n",
        "            return 'No'\n",
        "    return row['Expected_Fraud']\n",
        "\n",
        "df['Expected_Fraud'] = df.apply(classify_fraud, axis=1)"
      ],
      "metadata": {
        "id": "lEQ8flUqPCtq"
      },
      "execution_count": 110,
      "outputs": []
    },
    {
      "cell_type": "code",
      "source": [
        "df.Expected_Fraud.isnull().value_counts()"
      ],
      "metadata": {
        "colab": {
          "base_uri": "https://localhost:8080/",
          "height": 147
        },
        "id": "e496A3ksOv7N",
        "outputId": "f51c6061-1e3d-4cec-fa4f-796222da1b70"
      },
      "execution_count": 111,
      "outputs": [
        {
          "output_type": "execute_result",
          "data": {
            "text/plain": [
              "Expected_Fraud\n",
              "False    58150\n",
              "Name: count, dtype: int64"
            ],
            "text/html": [
              "<div>\n",
              "<style scoped>\n",
              "    .dataframe tbody tr th:only-of-type {\n",
              "        vertical-align: middle;\n",
              "    }\n",
              "\n",
              "    .dataframe tbody tr th {\n",
              "        vertical-align: top;\n",
              "    }\n",
              "\n",
              "    .dataframe thead th {\n",
              "        text-align: right;\n",
              "    }\n",
              "</style>\n",
              "<table border=\"1\" class=\"dataframe\">\n",
              "  <thead>\n",
              "    <tr style=\"text-align: right;\">\n",
              "      <th></th>\n",
              "      <th>count</th>\n",
              "    </tr>\n",
              "    <tr>\n",
              "      <th>Expected_Fraud</th>\n",
              "      <th></th>\n",
              "    </tr>\n",
              "  </thead>\n",
              "  <tbody>\n",
              "    <tr>\n",
              "      <th>False</th>\n",
              "      <td>58150</td>\n",
              "    </tr>\n",
              "  </tbody>\n",
              "</table>\n",
              "</div><br><label><b>dtype:</b> int64</label>"
            ]
          },
          "metadata": {},
          "execution_count": 111
        }
      ]
    },
    {
      "cell_type": "code",
      "source": [
        "df.Transaction_Type.unique()"
      ],
      "metadata": {
        "colab": {
          "base_uri": "https://localhost:8080/"
        },
        "id": "iu5xhBOASTGf",
        "outputId": "21917981-c570-414f-e2fe-13f42e800c71"
      },
      "execution_count": 112,
      "outputs": [
        {
          "output_type": "execute_result",
          "data": {
            "text/plain": [
              "array(['CASH_OUT', 'PAYMENT', 'CASH_IN', 'TRANSFER', 'DEBIT',\n",
              "       'CASH_OUUUT', 'Trans_fer'], dtype=object)"
            ]
          },
          "metadata": {},
          "execution_count": 112
        }
      ]
    },
    {
      "cell_type": "code",
      "source": [
        "df['Transaction_Type'] = df['Transaction_Type'].replace({    # replace the unwanted errors like mispelled names\n",
        "    'CASH_OUUUT': 'CASH_OUT',\n",
        "    'Trans_fer': 'TRANSFER'\n",
        "})"
      ],
      "metadata": {
        "id": "eAaBbvU_Sq0N"
      },
      "execution_count": 113,
      "outputs": []
    },
    {
      "cell_type": "code",
      "source": [
        "from sklearn.preprocessing import LabelEncoder      # Conversion of the objects to the int\n",
        "le=LabelEncoder()\n",
        "df.Transaction_Type=le.fit_transform(df.Transaction_Type)\n",
        "df.Fraud=le.fit_transform(df.Fraud)\n",
        "df.Expected_Fraud=le.fit_transform(df.Expected_Fraud)"
      ],
      "metadata": {
        "id": "kXX6ckJDLYXc"
      },
      "execution_count": 114,
      "outputs": []
    },
    {
      "cell_type": "code",
      "source": [
        "from scipy.stats import zscore   # outlier prediction\n",
        "\n",
        "df['Z-Score'] = zscore(df['Amount'])\n",
        "outliers = df[(df['Z-Score'] > 3) | (df['Z-Score'] < -3)]\n",
        "df_cleaned = df[(df['Z-Score'] <= 3) & (df['Z-Score'] >= -3)]\n",
        "df = df_cleaned.drop(columns=['Z-Score'])\n"
      ],
      "metadata": {
        "id": "SWv-iqfvba6e"
      },
      "execution_count": 115,
      "outputs": []
    },
    {
      "cell_type": "code",
      "source": [
        "df.info()"
      ],
      "metadata": {
        "colab": {
          "base_uri": "https://localhost:8080/"
        },
        "id": "mAQQ0phgR_vQ",
        "outputId": "319cb32d-4cf9-4936-b9cb-29fa83bbd420"
      },
      "execution_count": 116,
      "outputs": [
        {
          "output_type": "stream",
          "name": "stdout",
          "text": [
            "<class 'pandas.core.frame.DataFrame'>\n",
            "Index: 57090 entries, 0 to 58149\n",
            "Data columns (total 8 columns):\n",
            " #   Column                       Non-Null Count  Dtype  \n",
            "---  ------                       --------------  -----  \n",
            " 0   Transaction_Type             57090 non-null  int64  \n",
            " 1   Amount                       57090 non-null  float64\n",
            " 2   Initial_Origin_Balance       57090 non-null  float64\n",
            " 3   Final_Origin_Balance         57090 non-null  float64\n",
            " 4   Initial_Destination_Balance  57090 non-null  float64\n",
            " 5   Final_Destination_Balance    57090 non-null  float64\n",
            " 6   Fraud                        57090 non-null  int64  \n",
            " 7   Expected_Fraud               57090 non-null  int64  \n",
            "dtypes: float64(5), int64(3)\n",
            "memory usage: 3.9 MB\n"
          ]
        }
      ]
    },
    {
      "cell_type": "code",
      "source": [
        "# Train Test data spliting"
      ],
      "metadata": {
        "id": "MiTk3oKTzumU"
      },
      "execution_count": 117,
      "outputs": []
    },
    {
      "cell_type": "code",
      "source": [
        "x=df.drop(\"Fraud\",axis=\"columns\")\n",
        "y=df.Fraud"
      ],
      "metadata": {
        "id": "hrzAezW35IxA"
      },
      "execution_count": 118,
      "outputs": []
    },
    {
      "cell_type": "code",
      "source": [
        "x_tra,x_tes,y_tra,y_tes=tts(df.drop(\"Fraud\",axis=\"columns\"),df.Fraud,test_size=0.2,random_state=0)\n",
        "x_tra.shape,x_tes.shape"
      ],
      "metadata": {
        "colab": {
          "base_uri": "https://localhost:8080/"
        },
        "id": "mf57kIXySBKT",
        "outputId": "1a854e41-f72c-4fba-b68a-1bac96b946c5"
      },
      "execution_count": 119,
      "outputs": [
        {
          "output_type": "execute_result",
          "data": {
            "text/plain": [
              "((45672, 7), (11418, 7))"
            ]
          },
          "metadata": {},
          "execution_count": 119
        }
      ]
    },
    {
      "cell_type": "code",
      "source": [
        "scaler = StandardScaler()   # scaling of the data\n",
        "x_tra = scaler.fit_transform(x_tra)\n",
        "x_tes = scaler.transform(x_tes)\n",
        "\n",
        "smote = SMOTE(random_state=42)\n",
        "x_tra_resampled, y_tra_resampled = smote.fit_resample(x_tra, y_tra)"
      ],
      "metadata": {
        "id": "SBRgOxUvWjpQ"
      },
      "execution_count": 120,
      "outputs": []
    },
    {
      "cell_type": "code",
      "source": [
        "# Model implimetation"
      ],
      "metadata": {
        "id": "prAJRdoVz3PI"
      },
      "execution_count": 121,
      "outputs": []
    },
    {
      "cell_type": "code",
      "source": [
        "from sklearn.ensemble import RandomForestClassifier, GradientBoostingClassifier"
      ],
      "metadata": {
        "id": "3mGyhfRveQtp"
      },
      "execution_count": 122,
      "outputs": []
    },
    {
      "cell_type": "code",
      "source": [
        "gb = GradientBoostingClassifier(n_estimators=100, learning_rate=0.1, max_depth=3, random_state=42)  # ML model\n",
        "gb.fit(x_tra, y_tra)\n",
        "\n"
      ],
      "metadata": {
        "colab": {
          "base_uri": "https://localhost:8080/",
          "height": 75
        },
        "id": "tjEdOg9eapR5",
        "outputId": "f459eba5-6990-4560-b929-a199c44cb929"
      },
      "execution_count": 123,
      "outputs": [
        {
          "output_type": "execute_result",
          "data": {
            "text/plain": [
              "GradientBoostingClassifier(random_state=42)"
            ],
            "text/html": [
              "<style>#sk-container-id-8 {color: black;}#sk-container-id-8 pre{padding: 0;}#sk-container-id-8 div.sk-toggleable {background-color: white;}#sk-container-id-8 label.sk-toggleable__label {cursor: pointer;display: block;width: 100%;margin-bottom: 0;padding: 0.3em;box-sizing: border-box;text-align: center;}#sk-container-id-8 label.sk-toggleable__label-arrow:before {content: \"▸\";float: left;margin-right: 0.25em;color: #696969;}#sk-container-id-8 label.sk-toggleable__label-arrow:hover:before {color: black;}#sk-container-id-8 div.sk-estimator:hover label.sk-toggleable__label-arrow:before {color: black;}#sk-container-id-8 div.sk-toggleable__content {max-height: 0;max-width: 0;overflow: hidden;text-align: left;background-color: #f0f8ff;}#sk-container-id-8 div.sk-toggleable__content pre {margin: 0.2em;color: black;border-radius: 0.25em;background-color: #f0f8ff;}#sk-container-id-8 input.sk-toggleable__control:checked~div.sk-toggleable__content {max-height: 200px;max-width: 100%;overflow: auto;}#sk-container-id-8 input.sk-toggleable__control:checked~label.sk-toggleable__label-arrow:before {content: \"▾\";}#sk-container-id-8 div.sk-estimator input.sk-toggleable__control:checked~label.sk-toggleable__label {background-color: #d4ebff;}#sk-container-id-8 div.sk-label input.sk-toggleable__control:checked~label.sk-toggleable__label {background-color: #d4ebff;}#sk-container-id-8 input.sk-hidden--visually {border: 0;clip: rect(1px 1px 1px 1px);clip: rect(1px, 1px, 1px, 1px);height: 1px;margin: -1px;overflow: hidden;padding: 0;position: absolute;width: 1px;}#sk-container-id-8 div.sk-estimator {font-family: monospace;background-color: #f0f8ff;border: 1px dotted black;border-radius: 0.25em;box-sizing: border-box;margin-bottom: 0.5em;}#sk-container-id-8 div.sk-estimator:hover {background-color: #d4ebff;}#sk-container-id-8 div.sk-parallel-item::after {content: \"\";width: 100%;border-bottom: 1px solid gray;flex-grow: 1;}#sk-container-id-8 div.sk-label:hover label.sk-toggleable__label {background-color: #d4ebff;}#sk-container-id-8 div.sk-serial::before {content: \"\";position: absolute;border-left: 1px solid gray;box-sizing: border-box;top: 0;bottom: 0;left: 50%;z-index: 0;}#sk-container-id-8 div.sk-serial {display: flex;flex-direction: column;align-items: center;background-color: white;padding-right: 0.2em;padding-left: 0.2em;position: relative;}#sk-container-id-8 div.sk-item {position: relative;z-index: 1;}#sk-container-id-8 div.sk-parallel {display: flex;align-items: stretch;justify-content: center;background-color: white;position: relative;}#sk-container-id-8 div.sk-item::before, #sk-container-id-8 div.sk-parallel-item::before {content: \"\";position: absolute;border-left: 1px solid gray;box-sizing: border-box;top: 0;bottom: 0;left: 50%;z-index: -1;}#sk-container-id-8 div.sk-parallel-item {display: flex;flex-direction: column;z-index: 1;position: relative;background-color: white;}#sk-container-id-8 div.sk-parallel-item:first-child::after {align-self: flex-end;width: 50%;}#sk-container-id-8 div.sk-parallel-item:last-child::after {align-self: flex-start;width: 50%;}#sk-container-id-8 div.sk-parallel-item:only-child::after {width: 0;}#sk-container-id-8 div.sk-dashed-wrapped {border: 1px dashed gray;margin: 0 0.4em 0.5em 0.4em;box-sizing: border-box;padding-bottom: 0.4em;background-color: white;}#sk-container-id-8 div.sk-label label {font-family: monospace;font-weight: bold;display: inline-block;line-height: 1.2em;}#sk-container-id-8 div.sk-label-container {text-align: center;}#sk-container-id-8 div.sk-container {/* jupyter's `normalize.less` sets `[hidden] { display: none; }` but bootstrap.min.css set `[hidden] { display: none !important; }` so we also need the `!important` here to be able to override the default hidden behavior on the sphinx rendered scikit-learn.org. See: https://github.com/scikit-learn/scikit-learn/issues/21755 */display: inline-block !important;position: relative;}#sk-container-id-8 div.sk-text-repr-fallback {display: none;}</style><div id=\"sk-container-id-8\" class=\"sk-top-container\"><div class=\"sk-text-repr-fallback\"><pre>GradientBoostingClassifier(random_state=42)</pre><b>In a Jupyter environment, please rerun this cell to show the HTML representation or trust the notebook. <br />On GitHub, the HTML representation is unable to render, please try loading this page with nbviewer.org.</b></div><div class=\"sk-container\" hidden><div class=\"sk-item\"><div class=\"sk-estimator sk-toggleable\"><input class=\"sk-toggleable__control sk-hidden--visually\" id=\"sk-estimator-id-8\" type=\"checkbox\" checked><label for=\"sk-estimator-id-8\" class=\"sk-toggleable__label sk-toggleable__label-arrow\">GradientBoostingClassifier</label><div class=\"sk-toggleable__content\"><pre>GradientBoostingClassifier(random_state=42)</pre></div></div></div></div></div>"
            ]
          },
          "metadata": {},
          "execution_count": 123
        }
      ]
    },
    {
      "cell_type": "code",
      "source": [
        "# Model Metrics"
      ],
      "metadata": {
        "id": "lgEVxlCEz8hp"
      },
      "execution_count": 124,
      "outputs": []
    },
    {
      "cell_type": "code",
      "source": [
        "y_pred = gb.predict(x_tes)\n",
        "\n",
        "accuracy = accuracy_score(y_tes, y_pred)\n",
        "print(f\"Accuracy: {accuracy:}\")\n",
        "\n",
        "print(\"Classification Report:\")\n",
        "print(classification_report(y_tes, y_pred))"
      ],
      "metadata": {
        "id": "6l1mRhClbF-j",
        "colab": {
          "base_uri": "https://localhost:8080/"
        },
        "outputId": "a31f5aee-489a-4a78-95ef-c13ac03fe7d7"
      },
      "execution_count": 125,
      "outputs": [
        {
          "output_type": "stream",
          "name": "stdout",
          "text": [
            "Accuracy: 0.9935190050796987\n",
            "Classification Report:\n",
            "              precision    recall  f1-score   support\n",
            "\n",
            "           0       1.00      0.99      1.00      9980\n",
            "           1       0.97      0.98      0.97      1438\n",
            "\n",
            "    accuracy                           0.99     11418\n",
            "   macro avg       0.98      0.99      0.99     11418\n",
            "weighted avg       0.99      0.99      0.99     11418\n",
            "\n"
          ]
        }
      ]
    },
    {
      "cell_type": "code",
      "source": [
        "from sklearn.metrics import confusion_matrix, ConfusionMatrixDisplay  # confusion metrics\n",
        "\n",
        "conf_matrix = confusion_matrix(y_tes, y_pred)\n",
        "\n",
        "disp = ConfusionMatrixDisplay(confusion_matrix=conf_matrix,\n",
        "                              display_labels=['Not Fraud', 'Fraud'])\n",
        "\n",
        "disp.plot(cmap='Blues', values_format='d')\n",
        "plt.title('Confusion Matrix')\n",
        "plt.show()\n"
      ],
      "metadata": {
        "colab": {
          "base_uri": "https://localhost:8080/",
          "height": 472
        },
        "id": "J_1WJ0tA3BZ4",
        "outputId": "b93e3069-15ae-468f-8de6-735279f0123d"
      },
      "execution_count": 126,
      "outputs": [
        {
          "output_type": "display_data",
          "data": {
            "text/plain": [
              "<Figure size 640x480 with 2 Axes>"
            ],
            "image/png": "[encoded data removed]"
          },
          "metadata": {}
        }
      ]
    },
    {
      "cell_type": "markdown",
      "source": [
        "# 1.Data cleaning including missing values, outliers and multicollinearity."
      ],
      "metadata": {
        "id": "w5mB-lHZ07fb"
      }
    },
    {
      "cell_type": "code",
      "source": [
        "\"\"\" The data cleaning is done as their were some missing values in the expected_fraud column.\n",
        "    The outliers is detected in the amount so we used the zscore to overcome that\"\"\""
      ],
      "metadata": {
        "colab": {
          "base_uri": "https://localhost:8080/",
          "height": 35
        },
        "id": "wDaAD0O60YeY",
        "outputId": "2803177b-1b6e-4714-dc09-0ea343e968b1"
      },
      "execution_count": 127,
      "outputs": [
        {
          "output_type": "execute_result",
          "data": {
            "text/plain": [
              "' The data cleaning is done as their were some missing values in the expected_fraud column.\\n    The outliers is detected in the amount so we used the zscore to overcome that'"
            ],
            "application/vnd.google.colaboratory.intrinsic+json": {
              "type": "string"
            }
          },
          "metadata": {},
          "execution_count": 127
        }
      ]
    },
    {
      "cell_type": "markdown",
      "source": [
        "# 2.Describe your fraud detection model in elaboration."
      ],
      "metadata": {
        "id": "4FX7NwfL1OEl"
      }
    },
    {
      "cell_type": "code",
      "source": [
        "\"\"\" Gradient Boosting builds a powerful model by iteratively correcting the errors of previous models using decision trees, and it is known for its high predictive performance.\n",
        "    this is a  Ensemble learning technique used for classification and regression.\n",
        "    To create a strong predictive model by combining multiple weak learners (typically decision trees) into one robust model.\"\"\"\n"
      ],
      "metadata": {
        "id": "9xsBlKTdsejU",
        "colab": {
          "base_uri": "https://localhost:8080/",
          "height": 70
        },
        "collapsed": true,
        "outputId": "7cad0bdd-4ef4-4aee-fb5d-49283bfd43aa"
      },
      "execution_count": 128,
      "outputs": [
        {
          "output_type": "execute_result",
          "data": {
            "text/plain": [
              "' Gradient Boosting builds a powerful model by iteratively correcting the errors of previous models using decision trees, and it is known for its high predictive performance.\\n    this is a  Ensemble learning technique used for classification and regression.\\n    To create a strong predictive model by combining multiple weak learners (typically decision trees) into one robust model.'"
            ],
            "application/vnd.google.colaboratory.intrinsic+json": {
              "type": "string"
            }
          },
          "metadata": {},
          "execution_count": 128
        }
      ]
    },
    {
      "cell_type": "markdown",
      "source": [
        "# 3.How did you select variables to be included in the model?"
      ],
      "metadata": {
        "id": "X0G5anEC1yVG"
      }
    },
    {
      "cell_type": "code",
      "source": [
        "\"\"\" Here we selected the variable by taking the factors which are contributing the output like we have eliminated the factors like time ,Id .\n",
        "    The variables like amount , transaction amount,expected_fraud\"\"\""
      ],
      "metadata": {
        "colab": {
          "base_uri": "https://localhost:8080/",
          "height": 53
        },
        "collapsed": true,
        "id": "9q4JkdYZ112B",
        "outputId": "9e31118d-1d81-404e-ad4c-ec0595ba5b35"
      },
      "execution_count": 129,
      "outputs": [
        {
          "output_type": "execute_result",
          "data": {
            "text/plain": [
              "' Here we selected the variable by taking the factors which are contributing the output like we have eliminated the factors like time ,Id .\\n    The variables like amount , transaction amount,expected_fraud'"
            ],
            "application/vnd.google.colaboratory.intrinsic+json": {
              "type": "string"
            }
          },
          "metadata": {},
          "execution_count": 129
        }
      ]
    },
    {
      "cell_type": "markdown",
      "source": [
        "# 4.Demonstrate the performance of the model by using the best set of tools."
      ],
      "metadata": {
        "id": "7tCQBMip2yHX"
      }
    },
    {
      "cell_type": "code",
      "source": [
        "\"\"\" The performance are demonstrated by tools in sklearn lib\n",
        "    The tools are like Classification report and Confusion matrix\"\"\""
      ],
      "metadata": {
        "colab": {
          "base_uri": "https://localhost:8080/",
          "height": 35
        },
        "id": "_S5VDQqa2nTM",
        "outputId": "5c53d674-0ce9-439e-d4b3-ced7271c4409"
      },
      "execution_count": 130,
      "outputs": [
        {
          "output_type": "execute_result",
          "data": {
            "text/plain": [
              "' The performance are demonstrated by tools in sklearn lib \\n    The tools are like Classification report and Confusion matrix'"
            ],
            "application/vnd.google.colaboratory.intrinsic+json": {
              "type": "string"
            }
          },
          "metadata": {},
          "execution_count": 130
        }
      ]
    },
    {
      "cell_type": "markdown",
      "source": [
        "# 5.What are the key factors that predict fraudulent customers?"
      ],
      "metadata": {
        "id": "ApuqudiL3h-1"
      }
    },
    {
      "cell_type": "code",
      "source": [
        "\"\"\" the major factors are amount,Transaction amt and expected_fraud \"\"\""
      ],
      "metadata": {
        "colab": {
          "base_uri": "https://localhost:8080/",
          "height": 35
        },
        "id": "s_vNONny3fBU",
        "outputId": "900bcadb-7bc5-4476-b4c4-add9cd86b715"
      },
      "execution_count": 131,
      "outputs": [
        {
          "output_type": "execute_result",
          "data": {
            "text/plain": [
              "' the major factors are amount,Transaction amt and expected_fraud '"
            ],
            "application/vnd.google.colaboratory.intrinsic+json": {
              "type": "string"
            }
          },
          "metadata": {},
          "execution_count": 131
        }
      ]
    },
    {
      "cell_type": "code",
      "source": [
        "# for test dataset"
      ],
      "metadata": {
        "id": "dOFd-Qgs5mMT"
      },
      "execution_count": 136,
      "outputs": []
    },
    {
      "cell_type": "code",
      "source": [
        "dft=pd.read_csv(r\"/content/DATATHON_Test.csv\")"
      ],
      "metadata": {
        "id": "Q3ckX-qA6a-X"
      },
      "execution_count": 141,
      "outputs": []
    },
    {
      "cell_type": "code",
      "source": [
        "dft=dft.drop([\"Time\",\"Origin_ID\"],axis=\"columns\")"
      ],
      "metadata": {
        "id": "vLNlE7Xm60YG"
      },
      "execution_count": 144,
      "outputs": []
    },
    {
      "cell_type": "code",
      "source": [
        "dft=dft.drop([\"Destination_ID\"],axis=\"columns\")"
      ],
      "metadata": {
        "id": "EFrKBPiU6_Ey"
      },
      "execution_count": 145,
      "outputs": []
    },
    {
      "cell_type": "code",
      "source": [
        "def classify_fraud(row):   # this function does the work which fills the null values in them\n",
        "    if pd.isna(row['Expected_Fraud']):\n",
        "        if (row[\"Amount\"]):\n",
        "            return 'Yes'\n",
        "        else:\n",
        "            return 'No'\n",
        "    return row['Expected_Fraud']\n",
        "\n",
        "dft['Expected_Fraud'] = dft.apply(classify_fraud, axis=1)"
      ],
      "metadata": {
        "id": "5vNaxaoM6_ax"
      },
      "execution_count": 149,
      "outputs": []
    },
    {
      "cell_type": "code",
      "source": [
        "dft['Transaction_Type'] = dft['Transaction_Type'].replace({    # replace the unwanted errors like mispelled names\n",
        "    'CASH_OUUUT': 'CASH_OUT',\n",
        "    'Trans_fer': 'TRANSFER'\n",
        "})"
      ],
      "metadata": {
        "id": "KJ4Wbk-o7ITx"
      },
      "execution_count": 148,
      "outputs": []
    },
    {
      "cell_type": "code",
      "source": [
        "from sklearn.preprocessing import LabelEncoder      # Conversion of the objects to the int\n",
        "le=LabelEncoder()\n",
        "dft.Transaction_Type=le.fit_transform(dft.Transaction_Type)\n",
        "dft.Fraud=le.fit_transform(dft.Fraud)\n",
        "dft.Expected_Fraud=le.fit_transform(dft.Expected_Fraud)"
      ],
      "metadata": {
        "id": "_i-jjF727Q36"
      },
      "execution_count": 150,
      "outputs": []
    },
    {
      "cell_type": "code",
      "source": [
        "from scipy.stats import zscore   # outlier prediction\n",
        "\n",
        "dft['Z-Score'] = zscore(dft['Amount'])\n",
        "outliers = dft[(dft['Z-Score'] > 3) | (dft['Z-Score'] < -3)]\n",
        "df_cleanedt = dft[(dft['Z-Score'] <= 3) & (dft['Z-Score'] >= -3)]\n",
        "dft = df_cleanedt.drop(columns=['Z-Score'])"
      ],
      "metadata": {
        "id": "FSAdiRQH7d5-"
      },
      "execution_count": 151,
      "outputs": []
    },
    {
      "cell_type": "code",
      "source": [
        "x=dft.drop(\"Fraud\",axis=\"columns\")\n",
        "y=dft.Fraud"
      ],
      "metadata": {
        "id": "oQD0Kp9O7m0q"
      },
      "execution_count": 153,
      "outputs": []
    },
    {
      "cell_type": "code",
      "source": [
        "scaler = StandardScaler()   # scaling of the data\n",
        "x = scaler.fit_transform(x)\n",
        "x= scaler.transform(x)\n",
        "\n",
        "smote = SMOTE(random_state=42)\n",
        "x, y = smote.fit_resample(x_tra, y_tra)"
      ],
      "metadata": {
        "colab": {
          "base_uri": "https://localhost:8080/"
        },
        "id": "UArkIMnu7tRh",
        "outputId": "40791248-7e3a-41b6-b712-f8cb89fa9b44"
      },
      "execution_count": 154,
      "outputs": [
        {
          "output_type": "stream",
          "name": "stderr",
          "text": [
            "/usr/local/lib/python3.10/dist-packages/sklearn/base.py:465: UserWarning: X does not have valid feature names, but StandardScaler was fitted with feature names\n",
            "  warnings.warn(\n"
          ]
        }
      ]
    },
    {
      "cell_type": "code",
      "source": [
        "y_pre= gb.predict(x)\n",
        "\n",
        "accuracy = accuracy_score(y, y_pre)\n",
        "print(f\"Accuracy: {accuracy:}\")\n",
        "\n",
        "print(\"Classification Report:\")\n",
        "print(classification_report(y, y_pre))"
      ],
      "metadata": {
        "colab": {
          "base_uri": "https://localhost:8080/"
        },
        "id": "Uxd4Dy5y7-F8",
        "outputId": "e5651523-149d-4a4e-f37d-c857765fb487"
      },
      "execution_count": 156,
      "outputs": [
        {
          "output_type": "stream",
          "name": "stdout",
          "text": [
            "Accuracy: 0.9894984836712699\n",
            "Classification Report:\n",
            "              precision    recall  f1-score   support\n",
            "\n",
            "           0       0.98      0.99      0.99     39899\n",
            "           1       0.99      0.98      0.99     39899\n",
            "\n",
            "    accuracy                           0.99     79798\n",
            "   macro avg       0.99      0.99      0.99     79798\n",
            "weighted avg       0.99      0.99      0.99     79798\n",
            "\n"
          ]
        }
      ]
    },
    {
      "cell_type": "code",
      "source": [
        "from sklearn.metrics import confusion_matrix, ConfusionMatrixDisplay  # confusion metrics\n",
        "\n",
        "conf_matrix = confusion_matrix(y, y_pre)\n",
        "\n",
        "disp = ConfusionMatrixDisplay(confusion_matrix=conf_matrix,\n",
        "                              display_labels=['Not Fraud', 'Fraud'])\n",
        "\n",
        "disp.plot(cmap='Blues', values_format='d')\n",
        "plt.title('Confusion Matrix')\n",
        "plt.show()\n"
      ],
      "metadata": {
        "colab": {
          "base_uri": "https://localhost:8080/",
          "height": 472
        },
        "id": "pICKoa6K8CBi",
        "outputId": "d3c2cf91-a22e-4df3-acf9-f80470961ea9"
      },
      "execution_count": 158,
      "outputs": [
        {
          "output_type": "display_data",
          "data": {
            "text/plain": [
              "<Figure size 640x480 with 2 Axes>"
            ],
            "image/png": "[encoded data removed]"
          },
          "metadata": {}
        }
      ]
    },
    {
      "cell_type": "code",
      "source": [
        "import pickle\n",
        "\n",
        "with open('trained.pkl', 'wb') as file:\n",
        "    pickle.dump(gb, file)"
      ],
      "metadata": {
        "id": "GsC2XnFR8aJr"
      },
      "execution_count": 161,
      "outputs": []
    },
    {
      "cell_type": "code",
      "source": [],
      "metadata": {
        "id": "EL3NanZ-8_3D"
      },
      "execution_count": 161,
      "outputs": []
    },
    {
      "cell_type": "code",
      "source": [],
      "metadata": {
        "id": "8SNxqbfh9CrC"
      },
      "execution_count": 161,
      "outputs": []
    }
  ]
}